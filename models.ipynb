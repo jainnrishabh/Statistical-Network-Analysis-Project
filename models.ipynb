{
 "cells": [
  {
   "cell_type": "markdown",
   "metadata": {},
   "source": [
    "Imports for the project\n"
   ]
  },
  {
   "cell_type": "code",
   "execution_count": 1,
   "metadata": {},
   "outputs": [],
   "source": [
    "import numpy as np\n",
    "import networkx as netX\n",
    "from sklearn.manifold import SpectralEmbedding\n",
    "import matplotlib.pyplot as plt\n",
    "from sklearn.model_selection import train_test_split\n",
    "import torch\n",
    "from sklearn.discriminant_analysis import LinearDiscriminantAnalysis\n",
    "from sklearn.metrics import adjusted_rand_score\n",
    "from sklearn.svm import SVC\n",
    "import torch_geometric"
   ]
  },
  {
   "cell_type": "code",
   "execution_count": 36,
   "metadata": {},
   "outputs": [],
   "source": [
    "edges_file_path = 'data/DD349/DD349.edges'\n",
    "nodes_file_path = 'data/DD349/DD349.node_labels'\n",
    "\n",
    "# Load edges\n",
    "DD349_EDGES = np.genfromtxt(edges_file_path, dtype=int, delimiter=' ')\n",
    "\n",
    "# Load node labels\n",
    "DD349_LABELS = np.genfromtxt(nodes_file_path, dtype=int, delimiter=' ')\n",
    "DD349_LABELS = DD349_LABELS[:, 1]"
   ]
  },
  {
   "cell_type": "code",
   "execution_count": 37,
   "metadata": {},
   "outputs": [],
   "source": [
    "inData = DD349_EDGES # input data \n",
    "outData = DD349_LABELS # output data "
   ]
  },
  {
   "cell_type": "code",
   "execution_count": 38,
   "metadata": {},
   "outputs": [
    {
     "name": "stdout",
     "output_type": "stream",
     "text": [
      "Total 897 nodes and 2087 edges in graph\n"
     ]
    }
   ],
   "source": [
    "graph = netX.DiGraph()\n",
    "graph.add_edges_from(inData)\n",
    "print('Total {} nodes and {} edges in graph'.format(graph.number_of_nodes(), graph.number_of_edges()))"
   ]
  },
  {
   "cell_type": "code",
   "execution_count": 39,
   "metadata": {},
   "outputs": [
    {
     "name": "stdout",
     "output_type": "stream",
     "text": [
      "cuda\n"
     ]
    }
   ],
   "source": [
    "EPOCHS = 1000\n",
    "NUM_NODES = graph.number_of_nodes()\n",
    "GIVEN_CLASSES = np.max(outData)\n",
    "\n",
    "device = torch.device('cuda' if torch.cuda.is_available() else 'cpu')\n",
    "print(device)"
   ]
  },
  {
   "cell_type": "code",
   "execution_count": 43,
   "metadata": {},
   "outputs": [],
   "source": [
    "train_mask = torch.zeros(NUM_NODES, dtype=torch.bool)\n",
    "test_mask = torch.zeros(NUM_NODES, dtype=torch.bool)\n",
    "train_mask[:int(NUM_NODES*0.8)] = True\n",
    "test_mask[int(NUM_NODES*0.8):] = True\n",
    "\n",
    "data = torch_geometric.data.Data(\n",
    "    train_mask=train_mask,\n",
    "    test_mask=test_mask,\n",
    "    x=torch.eye(NUM_NODES), \n",
    "    edge_index=torch.tensor(inData-1, dtype=torch.long).t().contiguous(), \n",
    "    y=torch.nn.functional.one_hot(torch.tensor(outData-1, dtype=torch.long), GIVEN_CLASSES)).to(device)\n"
   ]
  },
  {
   "cell_type": "code",
   "execution_count": 44,
   "metadata": {},
   "outputs": [],
   "source": [
    "adjacency_matrix = np.zeros((NUM_NODES, NUM_NODES))\n",
    "adjacency_matrix[inData[:, 0]-1, inData[:, 1]-1] = 1\n",
    "adjacency_matrix[inData[:, 1]-1, inData[:, 0]-1] = 1"
   ]
  },
  {
   "cell_type": "markdown",
   "metadata": {},
   "source": [
    "## Model 1 : Graph Convolutional Network with 2 fully connected layers"
   ]
  },
  {
   "cell_type": "code",
   "execution_count": 45,
   "metadata": {},
   "outputs": [],
   "source": [
    "class GraphConvolutionNetwork(torch.nn.Module):\n",
    "    def __init__(self, num_node, num_classes):\n",
    "        super(GraphConvolutionNetwork, self).__init__()\n",
    "        self.conv1 = torch_geometric.nn.GCNConv(num_node, 128)\n",
    "        self.fc1 = torch.nn.Linear(128, num_classes)\n",
    "\n",
    "\n",
    "    def forward(self, data):\n",
    "        x, edge_index = data.x, data.edge_index\n",
    "        x = torch.nn.functional.relu(self.conv1(x, edge_index))\n",
    "        return torch.nn.functional.softmax(self.fc1(x), dim=1)"
   ]
  },
  {
   "cell_type": "code",
   "execution_count": 46,
   "metadata": {},
   "outputs": [],
   "source": [
    "model = GraphConvolutionNetwork(num_node=NUM_NODES, num_classes=GIVEN_CLASSES).to(device)\n",
    "optimizer = torch.optim.Adam(model.parameters(), lr=0.01)\n",
    "mse = torch.nn.MSELoss()"
   ]
  },
  {
   "cell_type": "code",
   "execution_count": 49,
   "metadata": {},
   "outputs": [
    {
     "name": "stdout",
     "output_type": "stream",
     "text": [
      "Epoch: 0 Loss: 0.002187458099797368 Test Accuracy: 0.19509476031215162\n",
      "Epoch: 10 Loss: 0.0017949918983504176 Test Accuracy: 0.19843924191750278\n",
      "Epoch: 20 Loss: 0.0013294746167957783 Test Accuracy: 0.19843924191750278\n",
      "Epoch: 30 Loss: 0.0012383980210870504 Test Accuracy: 0.19843924191750278\n",
      "Epoch: 40 Loss: 0.000759754388127476 Test Accuracy: 0.20066889632107024\n",
      "Epoch: 50 Loss: 8.810152939986438e-05 Test Accuracy: 0.20066889632107024\n",
      "Epoch: 60 Loss: 2.7612686608335935e-05 Test Accuracy: 0.20066889632107024\n",
      "Epoch: 70 Loss: 1.7266536815441214e-05 Test Accuracy: 0.1995540691192865\n",
      "Epoch: 80 Loss: 1.3082799341646023e-05 Test Accuracy: 0.1995540691192865\n",
      "Epoch: 90 Loss: 1.1208783689653501e-05 Test Accuracy: 0.20066889632107024\n"
     ]
    }
   ],
   "source": [
    "loss_list = []\n",
    "acc_list = []\n",
    "\n",
    "for epoch in range(100):\n",
    "    model.train()\n",
    "    optimizer.zero_grad()\n",
    "    out = model(data)\n",
    "    loss = mse(out[data.train_mask], data.y[data.train_mask].float())\n",
    "    loss.backward()\n",
    "    optimizer.step()\n",
    "\n",
    "    # validate the model\n",
    "    model.eval()\n",
    "    _, pred = model(data).max(dim=1)\n",
    "    _, true_labels = torch.max(data.y.float(), dim=1)\n",
    "    correct = float(pred[data.test_mask].eq(true_labels[data.test_mask]).sum().item())\n",
    "    acc = correct / len(data.y)\n",
    "    loss_list.append(loss.item())\n",
    "    acc_list.append(acc)\n",
    "    if epoch%10 == 0:\n",
    "        print('Epoch: {} Loss: {} Test Accuracy: {}'.format(epoch, loss.item(), acc))"
   ]
  },
  {
   "cell_type": "code",
   "execution_count": 50,
   "metadata": {},
   "outputs": [
    {
     "name": "stdout",
     "output_type": "stream",
     "text": [
      "Test Accuracy: 1.0\n",
      "Adjusted Rand Index: 1.0\n"
     ]
    }
   ],
   "source": [
    "# test the model\n",
    "model.eval()\n",
    "_, pred = model(data).max(dim=1)\n",
    "_, true_labels = torch.max(data.y.float(), dim=1)\n",
    "correct = float(pred.eq(true_labels).sum().item())\n",
    "acc = correct / len(data.y)\n",
    "print('Test Accuracy: {}'.format(acc))\n",
    "print(\"Adjusted Rand Index: {}\".format(adjusted_rand_score(pred.cpu().numpy(), true_labels.cpu().numpy())))"
   ]
  },
  {
   "cell_type": "code",
   "execution_count": 51,
   "metadata": {},
   "outputs": [
    {
     "data": {
      "image/png": "[encoded data removed]",
      "text/plain": [
       "<Figure size 640x480 with 1 Axes>"
      ]
     },
     "metadata": {},
     "output_type": "display_data"
    }
   ],
   "source": [
    "# plot loss and accuracy\n",
    "plt.plot(loss_list)\n",
    "plt.plot(acc_list)\n",
    "plt.legend(['loss', 'accuracy'])\n",
    "plt.show()"
   ]
  },
  {
   "cell_type": "markdown",
   "metadata": {},
   "source": [
    "## Model 2 : Graph Encoder Embedding"
   ]
  },
  {
   "cell_type": "code",
   "execution_count": 54,
   "metadata": {},
   "outputs": [],
   "source": [
    "class GraphEncoderEmbedding(torch.nn.Module):\n",
    "    def __init__(self, num_nodes, num_classes):\n",
    "        super(GraphEncoderEmbedding, self).__init__()\n",
    "        self.conv1 = torch_geometric.nn.GCNConv(num_nodes, 256)\n",
    "        self.conv2 = torch_geometric.nn.GCNConv(256, num_classes)\n",
    "\n",
    "    def forward(self, x, edge_index):\n",
    "        \n",
    "        x = self.conv1(x, edge_index)\n",
    "        x = torch.nn.functional.relu(x)\n",
    "        x = torch.nn.functional.dropout(x, training=self.training)\n",
    "        x = self.conv2(x, edge_index)\n",
    "        x = torch.nn.functional.log_softmax(x, dim=1)\n",
    "        return x"
   ]
  },
  {
   "cell_type": "code",
   "execution_count": 55,
   "metadata": {},
   "outputs": [],
   "source": [
    "model = GraphEncoderEmbedding(num_nodes=NUM_NODES, num_classes=GIVEN_CLASSES).to(device)\n",
    "optimizer = torch.optim.Adam(model.parameters(), lr=0.01, weight_decay=5e-4)\n",
    "loss_fn = torch.nn.CrossEntropyLoss()"
   ]
  },
  {
   "cell_type": "code",
   "execution_count": 56,
   "metadata": {},
   "outputs": [
    {
     "name": "stdout",
     "output_type": "stream",
     "text": [
      "Epoch: 0 Loss: 2.9985859394073486 Test Accuracy: 0.03888888888888889\n",
      "Epoch: 100 Loss: 0.6194441914558411 Test Accuracy: 0.03888888888888889\n",
      "Epoch: 200 Loss: 0.5457534193992615 Test Accuracy: 0.03333333333333333\n",
      "Epoch: 300 Loss: 0.5380569696426392 Test Accuracy: 0.05\n",
      "Epoch: 400 Loss: 0.5231691598892212 Test Accuracy: 0.03888888888888889\n",
      "Epoch: 500 Loss: 0.5158518552780151 Test Accuracy: 0.05\n",
      "Epoch: 600 Loss: 0.5084226131439209 Test Accuracy: 0.044444444444444446\n",
      "Epoch: 700 Loss: 0.5122314691543579 Test Accuracy: 0.03888888888888889\n",
      "Epoch: 800 Loss: 0.5178695917129517 Test Accuracy: 0.05555555555555555\n",
      "Epoch: 900 Loss: 0.4987855851650238 Test Accuracy: 0.044444444444444446\n"
     ]
    }
   ],
   "source": [
    "loss_list_gee = []\n",
    "accuracy_list_gee = []\n",
    "\n",
    "for epoch in range(EPOCHS):\n",
    "    model.train()\n",
    "    optimizer.zero_grad()\n",
    "    out = model(data.x, data.edge_index)\n",
    "    loss = loss_fn(out[data.train_mask], data.y[data.train_mask].float())\n",
    "    loss.backward()\n",
    "    optimizer.step()\n",
    "\n",
    "    # validate the model\n",
    "    model.eval()\n",
    "    _, pred = model(data.x, data.edge_index).max(dim=1)\n",
    "    _, true_labels = torch.max(data.y.float(), dim=1)\n",
    "    correct = float(pred[data.test_mask].eq(true_labels[data.test_mask]).sum().item())\n",
    "    acc = correct / len(data.y[data.test_mask])\n",
    "    loss_list_gee.append(loss.item())\n",
    "    accuracy_list_gee.append(acc)\n",
    "    if epoch%100 == 0:\n",
    "        print('Epoch: {} Loss: {} Test Accuracy: {}'.format(epoch, loss.item(), acc))"
   ]
  },
  {
   "cell_type": "code",
   "execution_count": 53,
   "metadata": {},
   "outputs": [
    {
     "ename": "TypeError",
     "evalue": "GraphConvolutionNetwork.forward() takes 2 positional arguments but 3 were given",
     "output_type": "error",
     "traceback": [
      "\u001b[1;31m---------------------------------------------------------------------------\u001b[0m",
      "\u001b[1;31mTypeError\u001b[0m                                 Traceback (most recent call last)",
      "\u001b[1;32md:\\Rishabh\\network-analysis-main\\models.ipynb Cell 19\u001b[0m line \u001b[0;36m3\n\u001b[0;32m      <a href='vscode-notebook-cell:/d%3A/Rishabh/network-analysis-main/models.ipynb#X56sZmlsZQ%3D%3D?line=0'>1</a>\u001b[0m \u001b[39m# test the model\u001b[39;00m\n\u001b[0;32m      <a href='vscode-notebook-cell:/d%3A/Rishabh/network-analysis-main/models.ipynb#X56sZmlsZQ%3D%3D?line=1'>2</a>\u001b[0m model\u001b[39m.\u001b[39meval()\n\u001b[1;32m----> <a href='vscode-notebook-cell:/d%3A/Rishabh/network-analysis-main/models.ipynb#X56sZmlsZQ%3D%3D?line=2'>3</a>\u001b[0m _, pred \u001b[39m=\u001b[39m model(data\u001b[39m.\u001b[39;49mx, data\u001b[39m.\u001b[39;49medge_index)\u001b[39m.\u001b[39mmax(dim\u001b[39m=\u001b[39m\u001b[39m1\u001b[39m)\n\u001b[0;32m      <a href='vscode-notebook-cell:/d%3A/Rishabh/network-analysis-main/models.ipynb#X56sZmlsZQ%3D%3D?line=3'>4</a>\u001b[0m _, true_labels \u001b[39m=\u001b[39m torch\u001b[39m.\u001b[39mmax(data\u001b[39m.\u001b[39my\u001b[39m.\u001b[39mfloat(), dim\u001b[39m=\u001b[39m\u001b[39m1\u001b[39m)\n\u001b[0;32m      <a href='vscode-notebook-cell:/d%3A/Rishabh/network-analysis-main/models.ipynb#X56sZmlsZQ%3D%3D?line=4'>5</a>\u001b[0m correct \u001b[39m=\u001b[39m \u001b[39mfloat\u001b[39m(pred\u001b[39m.\u001b[39meq(true_labels)\u001b[39m.\u001b[39msum()\u001b[39m.\u001b[39mitem())\n",
      "File \u001b[1;32m~\\AppData\\Local\\Packages\\PythonSoftwareFoundation.Python.3.11_qbz5n2kfra8p0\\LocalCache\\local-packages\\Python311\\site-packages\\torch\\nn\\modules\\module.py:1518\u001b[0m, in \u001b[0;36mModule._wrapped_call_impl\u001b[1;34m(self, *args, **kwargs)\u001b[0m\n\u001b[0;32m   1516\u001b[0m     \u001b[39mreturn\u001b[39;00m \u001b[39mself\u001b[39m\u001b[39m.\u001b[39m_compiled_call_impl(\u001b[39m*\u001b[39margs, \u001b[39m*\u001b[39m\u001b[39m*\u001b[39mkwargs)  \u001b[39m# type: ignore[misc]\u001b[39;00m\n\u001b[0;32m   1517\u001b[0m \u001b[39melse\u001b[39;00m:\n\u001b[1;32m-> 1518\u001b[0m     \u001b[39mreturn\u001b[39;00m \u001b[39mself\u001b[39;49m\u001b[39m.\u001b[39;49m_call_impl(\u001b[39m*\u001b[39;49margs, \u001b[39m*\u001b[39;49m\u001b[39m*\u001b[39;49mkwargs)\n",
      "File \u001b[1;32m~\\AppData\\Local\\Packages\\PythonSoftwareFoundation.Python.3.11_qbz5n2kfra8p0\\LocalCache\\local-packages\\Python311\\site-packages\\torch\\nn\\modules\\module.py:1527\u001b[0m, in \u001b[0;36mModule._call_impl\u001b[1;34m(self, *args, **kwargs)\u001b[0m\n\u001b[0;32m   1522\u001b[0m \u001b[39m# If we don't have any hooks, we want to skip the rest of the logic in\u001b[39;00m\n\u001b[0;32m   1523\u001b[0m \u001b[39m# this function, and just call forward.\u001b[39;00m\n\u001b[0;32m   1524\u001b[0m \u001b[39mif\u001b[39;00m \u001b[39mnot\u001b[39;00m (\u001b[39mself\u001b[39m\u001b[39m.\u001b[39m_backward_hooks \u001b[39mor\u001b[39;00m \u001b[39mself\u001b[39m\u001b[39m.\u001b[39m_backward_pre_hooks \u001b[39mor\u001b[39;00m \u001b[39mself\u001b[39m\u001b[39m.\u001b[39m_forward_hooks \u001b[39mor\u001b[39;00m \u001b[39mself\u001b[39m\u001b[39m.\u001b[39m_forward_pre_hooks\n\u001b[0;32m   1525\u001b[0m         \u001b[39mor\u001b[39;00m _global_backward_pre_hooks \u001b[39mor\u001b[39;00m _global_backward_hooks\n\u001b[0;32m   1526\u001b[0m         \u001b[39mor\u001b[39;00m _global_forward_hooks \u001b[39mor\u001b[39;00m _global_forward_pre_hooks):\n\u001b[1;32m-> 1527\u001b[0m     \u001b[39mreturn\u001b[39;00m forward_call(\u001b[39m*\u001b[39;49margs, \u001b[39m*\u001b[39;49m\u001b[39m*\u001b[39;49mkwargs)\n\u001b[0;32m   1529\u001b[0m \u001b[39mtry\u001b[39;00m:\n\u001b[0;32m   1530\u001b[0m     result \u001b[39m=\u001b[39m \u001b[39mNone\u001b[39;00m\n",
      "\u001b[1;31mTypeError\u001b[0m: GraphConvolutionNetwork.forward() takes 2 positional arguments but 3 were given"
     ]
    }
   ],
   "source": [
    "# test the model\n",
    "model.eval()\n",
    "_, pred = model(data.x, data.edge_index).max(dim=1)\n",
    "_, true_labels = torch.max(data.y.float(), dim=1)\n",
    "correct = float(pred.eq(true_labels).sum().item())\n",
    "acc = correct / len(data.y)\n",
    "print('Test Accuracy: {}'.format(acc))"
   ]
  },
  {
   "cell_type": "code",
   "execution_count": 17,
   "metadata": {},
   "outputs": [
    {
     "data": {
      "image/png": "[encoded data removed]",
      "text/plain": [
       "<Figure size 640x480 with 1 Axes>"
      ]
     },
     "metadata": {},
     "output_type": "display_data"
    }
   ],
   "source": [
    "# plot loss and accuracy\n",
    "plt.plot(loss_list)\n",
    "plt.plot(accuracy_list)\n",
    "plt.legend(['loss', 'accuracy'])\n",
    "plt.show()"
   ]
  },
  {
   "cell_type": "code",
   "execution_count": 18,
   "metadata": {},
   "outputs": [
    {
     "name": "stdout",
     "output_type": "stream",
     "text": [
      "Training Accuracy LDA:\n",
      "Accuracy: 0.5397489539748954\n",
      "Adjusted Rand Index: 0.5179413232701318\n",
      "Testing Accuracy LDA:\n",
      "Accuracy: 0.5111111111111111\n",
      "Adjusted Rand Index: 0.5570838931610878\n"
     ]
    }
   ],
   "source": [
    "model.eval()\n",
    "with torch.no_grad():\n",
    "    out = model(data.x, data.edge_index)\n",
    "\n",
    "out = out.cpu().numpy().argmax(axis=1)\n",
    "\n",
    "X_TRAIN, X_TEST, Y_TRAIN, Y_TEST = train_test_split(out.reshape(-1, 1), outData, test_size=0.2, random_state=42)\n",
    "\n",
    "lda = LinearDiscriminantAnalysis()\n",
    "lda.fit(X_TRAIN, Y_TRAIN)\n",
    "y_pred = lda.predict(X_TRAIN)\n",
    "\n",
    "print(\"Training Accuracy LDA:\")\n",
    "print(f\"Accuracy: {np.sum(Y_TRAIN == y_pred) / len(Y_TRAIN)}\")\n",
    "print(f\"Adjusted Rand Index: {adjusted_rand_score(Y_TRAIN, y_pred)}\")\n",
    "\n",
    "print(\"Testing Accuracy LDA:\")\n",
    "print(f\"Accuracy: {np.sum(Y_TEST == lda.predict(X_TEST)) / len(Y_TEST)}\")\n",
    "print(f\"Adjusted Rand Index: {adjusted_rand_score(Y_TEST, lda.predict(X_TEST))}\")"
   ]
  },
  {
   "cell_type": "markdown",
   "metadata": {},
   "source": [
    "## Model 3 : Spectral Embedding"
   ]
  },
  {
   "cell_type": "code",
   "execution_count": 19,
   "metadata": {},
   "outputs": [],
   "source": [
    "embedding = SpectralEmbedding(n_components=NUM_NODES-10)\n",
    "spectral_embedding = embedding.fit_transform(adjacency_matrix, outData)"
   ]
  },
  {
   "cell_type": "code",
   "execution_count": 20,
   "metadata": {},
   "outputs": [],
   "source": [
    "X_TRAIN, X_TEST, Y_TRAIN, Y_TEST = train_test_split(spectral_embedding, outData, test_size=0.2, random_state=42)"
   ]
  },
  {
   "cell_type": "code",
   "execution_count": 26,
   "metadata": {},
   "outputs": [
    {
     "name": "stdout",
     "output_type": "stream",
     "text": [
      "Training Accuracy LDA:\n",
      "Accuracy: 0.898186889818689\n",
      "Adjusted Rand Index: 0.7987605630443704\n",
      "\n",
      "Testing Accuracy LDA:\n",
      "Accuracy: 0.07222222222222222\n",
      "Adjusted Rand Index: -0.00893247849179617\n"
     ]
    }
   ],
   "source": [
    "lda = LinearDiscriminantAnalysis()\n",
    "lda.fit(X_TRAIN, Y_TRAIN)\n",
    "y_pred = lda.predict(X_TRAIN)\n",
    "\n",
    "print(\"Training Accuracy LDA:\")\n",
    "print(\"Accuracy: {}\".format(np.sum(Y_TRAIN == y_pred) / len(Y_TRAIN)))\n",
    "print(\"Adjusted Rand Index: {}\".format(adjusted_rand_score(Y_TRAIN, y_pred)))\n",
    "\n",
    "print(\"\\nTesting Accuracy LDA:\")\n",
    "print(\"Accuracy: {}\".format(np.sum(Y_TEST == lda.predict(X_TEST)) / len(Y_TEST)))\n",
    "print(\"Adjusted Rand Index: {}\".format(adjusted_rand_score(Y_TEST, lda.predict(X_TEST))))"
   ]
  },
  {
   "cell_type": "code",
   "execution_count": 25,
   "metadata": {},
   "outputs": [
    {
     "name": "stdout",
     "output_type": "stream",
     "text": [
      "Training Accuracy SVC:\n",
      "Accuracy: 0.9149232914923291\n",
      "Adjusted Rand Index: 0.7714927096248679\n",
      "\n",
      "Testing Accuracy SVC:\n",
      "Accuracy: 0.06666666666666667\n",
      "Adjusted Rand Index: -0.0006716271967302455\n"
     ]
    }
   ],
   "source": [
    "svc = SVC()\n",
    "svc.fit(X_TRAIN, Y_TRAIN)\n",
    "y_pred = svc.predict(X_TRAIN)\n",
    "\n",
    "print(\"Training Accuracy SVC:\")\n",
    "print(\"Accuracy: {}\".format(np.sum(Y_TRAIN == y_pred) / len(Y_TRAIN)))\n",
    "print(\"Adjusted Rand Index: {}\".format(adjusted_rand_score(Y_TRAIN, y_pred)))\n",
    "\n",
    "print(\"\\nTesting Accuracy SVC:\")\n",
    "print(\"Accuracy: {}\".format(np.sum(Y_TEST == svc.predict(X_TEST)) / len(Y_TEST)))\n",
    "print(\"Adjusted Rand Index: {}\".format(adjusted_rand_score(Y_TEST, svc.predict(X_TEST))))"
   ]
  }
 ],
 "metadata": {
  "kernelspec": {
   "display_name": ".venv",
   "language": "python",
   "name": "python3"
  },
  "language_info": {
   "codemirror_mode": {
    "name": "ipython",
    "version": 3
   },
   "file_extension": ".py",
   "mimetype": "text/x-python",
   "name": "python",
   "nbconvert_exporter": "python",
   "pygments_lexer": "ipython3",
   "version": "3.11.7"
  }
 },
 "nbformat": 4,
 "nbformat_minor": 2
}
